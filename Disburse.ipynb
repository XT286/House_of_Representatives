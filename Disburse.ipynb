{
 "cells": [
  {
   "cell_type": "markdown",
   "metadata": {},
   "source": [
    "## House Office Expenditure Data"
   ]
  },
  {
   "cell_type": "code",
   "execution_count": 1,
   "metadata": {},
   "outputs": [],
   "source": [
    "import pandas as pd\n",
    "import numpy as np\n",
    "import matplotlib.pyplot as plt"
   ]
  },
  {
   "cell_type": "code",
   "execution_count": null,
   "metadata": {},
   "outputs": [],
   "source": [
    "#import data and concatenate them into a single dataframe\n",
    "head = 'data/'\n",
    "tail = '-house-disburse-detail.csv'\n",
    "first = pd.read_csv('data/2009Q3-house-disburse-detail.csv', encoding = \"ISO-8859-1\")\n",
    "second = pd.read_csv('data/2009Q4-house-disburse-detail.csv', encoding = \"ISO-8859-1\")\n",
    "last = pd.read_csv('data/2018Q1-house-disburse-detail.csv', encoding = \"ISO-8859-1\")\n",
    "\n",
    "df = pd.concat([first,second], ignore_index = True)\n",
    "\n",
    "for i in range(8):\n",
    "    for j in range(4):\n",
    "        file_name = head+str(2010+i)+'Q'+str(j+1)+tail\n",
    "        current = pd.read_csv(file_name, encoding = \"ISO-8859-1\")\n",
    "        df = pd.concat([df, current], ignore_index = True)\n",
    "        \n",
    "df.QUARTER = df.QUARTER.replace(to_replace = 'Q3', value = '2017Q3')\n",
    "df.QUARTER = df.QUARTER.replace(to_replace = 'Q4', value = '2017Q4')\n",
    "last['QUARTER'] = '2018Q1'\n",
    "        \n",
    "df = pd.concat([df, last], ignore_index = True)\n",
    "df.shape"
   ]
  },
  {
   "cell_type": "code",
   "execution_count": 2,
   "metadata": {},
   "outputs": [
    {
     "name": "stderr",
     "output_type": "stream",
     "text": [
      "/Users/Xuntao/anaconda3/lib/python3.6/site-packages/IPython/core/interactiveshell.py:2785: DtypeWarning: Columns (1,2,4,8,9,11,12,13,15,16,17) have mixed types. Specify dtype option on import or set low_memory=False.\n",
      "  interactivity=interactivity, compiler=compiler, result=result)\n"
     ]
    }
   ],
   "source": [
    "df.to_csv('House.csv')"
   ]
  },
  {
   "cell_type": "markdown",
   "metadata": {},
   "source": [
    "## Answer to Question 1:\n",
    "'What is the total of all the payments in the dataset?''"
   ]
  },
  {
   "cell_type": "code",
   "execution_count": 3,
   "metadata": {},
   "outputs": [
    {
     "data": {
      "text/plain": [
       "12699262210.909998"
      ]
     },
     "execution_count": 3,
     "metadata": {},
     "output_type": "execute_result"
    }
   ],
   "source": [
    "# Normalizing the AMOUNT column, to make them all float type\n",
    "df['AMOUNT'] = df.AMOUNT.apply(lambda x: 0 if x == '#VALUE!' else x)\n",
    "df.AMOUNT = df.AMOUNT.apply(lambda x: np.float64(str(x).replace(',','')))\n",
    "\n",
    "#We compute the total sum. Note that we did not take away negative terms. Since that reflects return of flow of money or income.\n",
    "total_sum = df.AMOUNT.sum()\n",
    "total_sum"
   ]
  },
  {
   "cell_type": "markdown",
   "metadata": {},
   "source": [
    "## Data Cleaning\n",
    "Now we start cleaning the data, since this includes dropping some cells we don't want, so we have to compute the total amount before that"
   ]
  },
  {
   "cell_type": "code",
   "execution_count": 4,
   "metadata": {},
   "outputs": [],
   "source": [
    "df.YEAR = df.YEAR.fillna(value = 0)\n",
    "# Normalize the YEAR column\n",
    "def year_normalizer(x):\n",
    "    if type(x) == str:\n",
    "        x = x.replace('FISCAL YEAR ', '')\n",
    "        x = x.replace('#VALUE!', '0')\n",
    "    return int(x)\n",
    "\n",
    "df.YEAR = df.YEAR.apply(lambda x: year_normalizer(x))"
   ]
  },
  {
   "cell_type": "code",
   "execution_count": 5,
   "metadata": {},
   "outputs": [],
   "source": [
    "# Normalize the OFFICE column\n",
    "def office_normalizer(x):\n",
    "    irr = ['FISCAL YEAR 2017 ', 'FISCAL YEAR 2016 ', 'FISCAL YEAR 2015 ', 'FISCAL YEAR 2018 ',\n",
    "          'FISCAL YEAR 2014 ', 'FISCAL YEAR 2013 ', 'FISCAL YEAR 2012 ', '2012 ',\n",
    "          '2013 ', '2014 ', '2015 ', '2016 ', '2017 ', '2018 ']\n",
    "    for entry in irr:\n",
    "        if entry in x:\n",
    "            x = x.replace(entry, '')\n",
    "    return x\n",
    "\n",
    "df.OFFICE = df.OFFICE.apply(lambda x: office_normalizer(x))"
   ]
  },
  {
   "cell_type": "code",
   "execution_count": 6,
   "metadata": {},
   "outputs": [],
   "source": [
    "# For the purpose of later questions, we need to distinguish offices of representatives from others.\n",
    "def rep_distinguisher(x):\n",
    "    if 'HON.' in x:\n",
    "        return True\n",
    "    else: return False\n",
    "\n",
    "df['if_rep'] = df.OFFICE.apply(lambda x: rep_distinguisher(x))\n",
    "\n",
    "# Store the data from representatives in df_rep\n",
    "df_rep = df[df.if_rep == True]"
   ]
  },
  {
   "cell_type": "code",
   "execution_count": 7,
   "metadata": {},
   "outputs": [],
   "source": [
    "# Drop the entries with empty start or end date since the number is small (<20)\n",
    "df = df.dropna(axis = 0, subset = ['START DATE'])\n",
    "df.reset_index(drop = True, inplace = True)"
   ]
  },
  {
   "cell_type": "code",
   "execution_count": 8,
   "metadata": {},
   "outputs": [
    {
     "data": {
      "text/plain": [
       "3515678"
      ]
     },
     "execution_count": 8,
     "metadata": {},
     "output_type": "execute_result"
    }
   ],
   "source": [
    "# Drop the anomalies (with the wrong format) in EndDate and StartDate\n",
    "def check_date_format(x):\n",
    "    if len(x)>11 or len(x)<5: return False\n",
    "    elif any(c.isalpha() for c in x) == True: return False\n",
    "    else: return True\n",
    "\n",
    "# Create two columns to determine whether the dates are valid\n",
    "df['StartDateCheck'] = df['START DATE'].apply(lambda x: check_date_format(x))\n",
    "df['EndDateCheck'] = df['END DATE'].apply(lambda x: check_date_format(x))\n",
    "\n",
    "len(df[df['StartDateCheck'] == True])"
   ]
  },
  {
   "cell_type": "code",
   "execution_count": 9,
   "metadata": {},
   "outputs": [],
   "source": [
    "df = df[df['StartDateCheck'] == True]\n",
    "df.reset_index(drop= True, inplace = True)"
   ]
  },
  {
   "cell_type": "code",
   "execution_count": 12,
   "metadata": {},
   "outputs": [],
   "source": [
    "# Converting the start date to TimeStamp\n",
    "df['START DATE'] = pd.to_datetime(df['START DATE'])"
   ]
  },
  {
   "cell_type": "markdown",
   "metadata": {},
   "source": [
    "## Answer to Question 2:\n",
    "Define the 'COVERAGE PERIOD' for each payment as the difference (in days) between 'END DATE' and 'START DATE'. What is the standard deviation in 'COVERAGE PERIOD'? Only consider payments with strictly positive amounts."
   ]
  },
  {
   "cell_type": "code",
   "execution_count": 18,
   "metadata": {},
   "outputs": [],
   "source": [
    "# Drop the entries with empty start or end date since the number is small (<20)\n",
    "df_end = df.dropna(axis = 0, subset = ['START DATE'])\n",
    "df_end.reset_index(drop = True, inplace = True)\n",
    "\n",
    "# Take the one with valid end dates and change the end dates to TimeStamp\n",
    "df_end = df_end[df_end['EndDateCheck'] == True]\n",
    "df_end['END DATE'] = pd.to_datetime(df_end['END DATE'])\n",
    "\n",
    "# pick the entries with positive amounts\n",
    "df_pos_amount = df_end[df_end.AMOUNT > 0]\n",
    "df_pos_amount.reset_index(drop = True, inplace = True)"
   ]
  },
  {
   "cell_type": "code",
   "execution_count": 19,
   "metadata": {},
   "outputs": [
    {
     "name": "stderr",
     "output_type": "stream",
     "text": [
      "/Users/Xuntao/anaconda3/lib/python3.6/site-packages/ipykernel_launcher.py:2: SettingWithCopyWarning: \n",
      "A value is trying to be set on a copy of a slice from a DataFrame.\n",
      "Try using .loc[row_indexer,col_indexer] = value instead\n",
      "\n",
      "See the caveats in the documentation: http://pandas.pydata.org/pandas-docs/stable/indexing.html#indexing-view-versus-copy\n",
      "  \n",
      "/Users/Xuntao/anaconda3/lib/python3.6/site-packages/ipykernel_launcher.py:3: SettingWithCopyWarning: \n",
      "A value is trying to be set on a copy of a slice from a DataFrame.\n",
      "Try using .loc[row_indexer,col_indexer] = value instead\n",
      "\n",
      "See the caveats in the documentation: http://pandas.pydata.org/pandas-docs/stable/indexing.html#indexing-view-versus-copy\n",
      "  This is separate from the ipykernel package so we can avoid doing imports until\n"
     ]
    },
    {
     "data": {
      "text/plain": [
       "60.12006319096592"
      ]
     },
     "execution_count": 19,
     "metadata": {},
     "output_type": "execute_result"
    }
   ],
   "source": [
    "# Computing the difference between End date and Start date\n",
    "df_pos_amount['COVERAGE PERIOD']= (df_pos_amount['END DATE']-df_pos_amount['START DATE'])\n",
    "df_pos_amount['COVERAGE PERIOD'] = df_pos_amount['COVERAGE PERIOD'].apply(lambda x: x.days)\n",
    "\n",
    "# drop the one with negative coverage periods, there were 52 entries.\n",
    "df_pos_amount = df_pos_amount[df_pos_amount['COVERAGE PERIOD']>=0]\n",
    "\n",
    "# Find the standard Deviation\n",
    "np.std(list(df_pos_amount['COVERAGE PERIOD']))"
   ]
  },
  {
   "cell_type": "markdown",
   "metadata": {},
   "source": [
    "## Answer to the question 3: \n",
    "What was the average annual expenditure with a 'START DATE' date between January 1, 2010 and December 31, 2016 (inclusive)? Only consider payments with strictly positive amounts."
   ]
  },
  {
   "cell_type": "code",
   "execution_count": 13,
   "metadata": {},
   "outputs": [],
   "source": [
    "# create a START YEAR column\n",
    "df['START YEAR'] = df['START DATE'].apply(lambda x: x.year)"
   ]
  },
  {
   "cell_type": "code",
   "execution_count": 14,
   "metadata": {},
   "outputs": [],
   "source": [
    "# select the rows with start year in 2011 to 2016\n",
    "mask = (df['START YEAR']>=2010) & (df['START YEAR']<=2016)\n",
    "df_inrange = df[mask]\n",
    "df_inrange.reset_index(drop = True, inplace = True)"
   ]
  },
  {
   "cell_type": "code",
   "execution_count": 15,
   "metadata": {},
   "outputs": [],
   "source": [
    "# pick the entries with positive amount\n",
    "df_pos_amount_inrange = df_inrange[df_inrange.AMOUNT > 0]\n",
    "df_pos_amount_inrange.reset_index(drop = True, inplace = True)"
   ]
  },
  {
   "cell_type": "code",
   "execution_count": 16,
   "metadata": {},
   "outputs": [],
   "source": [
    "total_exp = df_pos_amount_inrange.AMOUNT.sum()"
   ]
  },
  {
   "cell_type": "code",
   "execution_count": 17,
   "metadata": {},
   "outputs": [
    {
     "data": {
      "text/plain": [
       "1219719497.8385723"
      ]
     },
     "execution_count": 17,
     "metadata": {},
     "output_type": "execute_result"
    }
   ],
   "source": [
    "#Compute the average\n",
    "ave = total_exp/7\n",
    "ave"
   ]
  },
  {
   "cell_type": "markdown",
   "metadata": {},
   "source": [
    "## Answer to question 4: \n",
    "\"Find the 'OFFICE' with the highest total expenditures with a 'START DATE' in 2016. For this office, find the 'PURPOSE' that accounts for the highest total expenditures. What fraction of the total expenditures (all records, all offices) with a 'START DATE' in 2016 do these expenditures amount to?\""
   ]
  },
  {
   "cell_type": "code",
   "execution_count": 20,
   "metadata": {},
   "outputs": [],
   "source": [
    "#Select the rows that has a start date in 2016\n",
    "df_start_2016 = df[df['START YEAR'] == 2016]"
   ]
  },
  {
   "cell_type": "code",
   "execution_count": 23,
   "metadata": {},
   "outputs": [
    {
     "data": {
      "text/plain": [
       "'GOVERNMENT CONTRIBUTIONS'"
      ]
     },
     "execution_count": 23,
     "metadata": {},
     "output_type": "execute_result"
    }
   ],
   "source": [
    "#Find the 'OFFICE' with the highest total expenditures with a 'START DATE' in 2016. \n",
    "grouped = df_start_2016.groupby(by = ['OFFICE']).sum().sort_values(by = 'AMOUNT', ascending = False)\n",
    "grouped.reset_index(inplace = True)\n",
    "top_office = grouped.OFFICE[0]"
   ]
  },
  {
   "cell_type": "code",
   "execution_count": 24,
   "metadata": {},
   "outputs": [
    {
     "data": {
      "text/plain": [
       "0.06991225136352171"
      ]
     },
     "execution_count": 24,
     "metadata": {},
     "output_type": "execute_result"
    }
   ],
   "source": [
    "#For this office, find the 'PURPOSE' that accounts for the highest total expenditures. \n",
    "top_purpose = df_start_2016[df_start_2016.OFFICE == top_office].groupby('PURPOSE').sum().sort_values(by = 'AMOUNT', ascending = False).AMOUNT[0]\n",
    "\n",
    "#Compute the total expenditures in 2016\n",
    "exp_2016 = df_start_2016.AMOUNT.sum()\n",
    "\n",
    "#Compute the fraction.\n",
    "top_purpose / exp_2016"
   ]
  },
  {
   "cell_type": "markdown",
   "metadata": {},
   "source": [
    "## Answer to the Question 5:\n",
    "What was the highest average staff salary among all representatives in 2016? Assume staff sizes is equal to the number of unique payees in the 'PERSONNEL COMPENSATION' category for each representative."
   ]
  },
  {
   "cell_type": "code",
   "execution_count": 7,
   "metadata": {},
   "outputs": [
    {
     "data": {
      "text/plain": [
       "34575.83428571429"
      ]
     },
     "execution_count": 7,
     "metadata": {},
     "output_type": "execute_result"
    }
   ],
   "source": [
    "# Pick the rows in YEAR 2016 (Note that this is different than START YEAR being 2016!) in df_rep\n",
    "df_2016= df_rep[df_rep.YEAR == 2016]\n",
    "\n",
    "# Look at only the expense in 'PERSONNEL COMPENSATION' category\n",
    "df_2016_staff = df_2016[df_2016.CATEGORY == 'PERSONNEL COMPENSATION']\n",
    "\n",
    "# Find out how many unique payees each office have in 2016, regard them as staff numbers of each office\n",
    "df_2016_staff_number = df_2016_staff.groupby('OFFICE').PAYEE.nunique().to_frame()\n",
    "\n",
    "# Summing up the expenses in the \"Personnel compensation\" category (salary) in each office\n",
    "df_2016_expense = df_2016_staff.groupby('OFFICE').sum()\n",
    "\n",
    "# Concatenate the two dataframes\n",
    "df_2016_staff_expense = pd.concat([df_2016_expense, df_2016_staff_number], axis = 1)\n",
    "\n",
    "# Compute the average in each office\n",
    "df_2016_staff_expense['AVERAGE'] = df_2016_staff_expense.AMOUNT/df_2016_staff_expense.PAYEE\n",
    "\n",
    "# Pick the top one\n",
    "df_2016_staff_expense.sort_values('AVERAGE', ascending = False).AVERAGE[0]"
   ]
  },
  {
   "cell_type": "markdown",
   "metadata": {},
   "source": [
    "## Answer to the question 6:\n",
    "What was the median rate of annual turnover in staff between 2011 and 2016 (inclusive)? Turnover for 2011 should be calculated as the fraction of a representative's staff from 2010 who did not carry over to 2011. Only consider representatives who served for at least 4 years and had staff size of at least 5 every year that they served."
   ]
  },
  {
   "cell_type": "code",
   "execution_count": 8,
   "metadata": {},
   "outputs": [],
   "source": [
    "# Choose representative who served for at least 4 years and is currently in office in 10-16.\n",
    "# We need to use data from 2010 since we need that to compute the turnovers in 2011\n",
    "senior_reps = df_rep.groupby('OFFICE').filter(lambda x: x.max()['YEAR']-x.min()['YEAR']>=4)\n",
    "senior_reps = senior_reps[senior_reps.YEAR >=2010]\n",
    "senior_reps = senior_reps[senior_reps.YEAR <=2016]\n",
    "\n",
    "# Choose representative that has at least 5 staffs every year that they served.\n",
    "senior_reps = senior_reps[senior_reps.CATEGORY == 'PERSONNEL COMPENSATION']\n",
    "senior_reps.dropna(axis = 0, subset = ['PAYEE'])\n",
    "senior_reps = senior_reps.groupby(by = ['OFFICE','YEAR']).filter(lambda x: x.PAYEE.nunique()>=5)\n",
    "\n",
    "# return a dataframe with list of employees in each office in each year\n",
    "unique_employees = senior_reps.groupby(by = ['OFFICE','YEAR']).PAYEE.unique()\n",
    "unique_employees = unique_employees.reset_index()\n",
    "\n",
    "# Return a list of the turnover rates in all reps offices in the given period.\n",
    "reps = list(unique_employees.OFFICE.unique())\n",
    "turnover_rate = []\n",
    "for rep in reps:\n",
    "    this_rep = unique_employees[unique_employees.OFFICE == rep]\n",
    "    this_rep.reset_index(drop=True, inplace = True)\n",
    "    n = len(this_rep)-1\n",
    "    for i in range(n):\n",
    "        rate = len(set(this_rep.PAYEE[i])-set(this_rep.PAYEE[i+1]))/len(set(this_rep.PAYEE[i+1]))\n",
    "        turnover_rate.append(rate)\n",
    "\n",
    "# Compute the median for all turnover rates in 11-16\n",
    "median = np.median(turnover_rate)"
   ]
  },
  {
   "cell_type": "code",
   "execution_count": 9,
   "metadata": {},
   "outputs": [
    {
     "data": {
      "text/plain": [
       "0.23076923076923078"
      ]
     },
     "execution_count": 9,
     "metadata": {},
     "output_type": "execute_result"
    }
   ],
   "source": [
    "median"
   ]
  },
  {
   "cell_type": "markdown",
   "metadata": {},
   "source": [
    "## Answer to the question 7: \n",
    "What percentage of the expenditures of the top 20 spenders in 2016 come from members of the Democratic Party? Representatives are identified by their 'BIOGUIDE_ID', which can be used to look up representatives with ProPublica's Congress API to find their party affiliation. Consider an expenditure as being in 2016 if its 'START DATE' is in 2016."
   ]
  },
  {
   "cell_type": "code",
   "execution_count": 25,
   "metadata": {},
   "outputs": [
    {
     "data": {
      "text/html": [
       "<div>\n",
       "<style scoped>\n",
       "    .dataframe tbody tr th:only-of-type {\n",
       "        vertical-align: middle;\n",
       "    }\n",
       "\n",
       "    .dataframe tbody tr th {\n",
       "        vertical-align: top;\n",
       "    }\n",
       "\n",
       "    .dataframe thead th {\n",
       "        text-align: right;\n",
       "    }\n",
       "</style>\n",
       "<table border=\"1\" class=\"dataframe\">\n",
       "  <thead>\n",
       "    <tr style=\"text-align: right;\">\n",
       "      <th></th>\n",
       "      <th>OFFICE</th>\n",
       "      <th>Unnamed: 0</th>\n",
       "      <th>AMOUNT</th>\n",
       "      <th>YEAR</th>\n",
       "      <th>if_rep</th>\n",
       "      <th>StartDateCheck</th>\n",
       "      <th>EndDateCheck</th>\n",
       "      <th>START YEAR</th>\n",
       "      <th>if_Dem</th>\n",
       "    </tr>\n",
       "  </thead>\n",
       "  <tbody>\n",
       "    <tr>\n",
       "      <th>0</th>\n",
       "      <td>HON. PEDRO R. PIERLUISI</td>\n",
       "      <td>1962727229</td>\n",
       "      <td>1773125.94</td>\n",
       "      <td>1376898</td>\n",
       "      <td>683.0</td>\n",
       "      <td>683.0</td>\n",
       "      <td>683.0</td>\n",
       "      <td>1376928</td>\n",
       "      <td>True</td>\n",
       "    </tr>\n",
       "    <tr>\n",
       "      <th>1</th>\n",
       "      <td>HON. EARL L. BUDDY CARTER</td>\n",
       "      <td>3273480326</td>\n",
       "      <td>1537780.51</td>\n",
       "      <td>2308301</td>\n",
       "      <td>1145.0</td>\n",
       "      <td>1145.0</td>\n",
       "      <td>1145.0</td>\n",
       "      <td>2308320</td>\n",
       "      <td>False</td>\n",
       "    </tr>\n",
       "    <tr>\n",
       "      <th>2</th>\n",
       "      <td>HON. CAROLYN B. MALONEY</td>\n",
       "      <td>2193515851</td>\n",
       "      <td>1409965.17</td>\n",
       "      <td>1507946</td>\n",
       "      <td>760.0</td>\n",
       "      <td>760.0</td>\n",
       "      <td>748.0</td>\n",
       "      <td>1532160</td>\n",
       "      <td>True</td>\n",
       "    </tr>\n",
       "    <tr>\n",
       "      <th>3</th>\n",
       "      <td>HON. RYAN K. ZINKE</td>\n",
       "      <td>3403977247</td>\n",
       "      <td>1360360.16</td>\n",
       "      <td>2326449</td>\n",
       "      <td>1163.0</td>\n",
       "      <td>1163.0</td>\n",
       "      <td>1154.0</td>\n",
       "      <td>2344608</td>\n",
       "      <td>False</td>\n",
       "    </tr>\n",
       "    <tr>\n",
       "      <th>4</th>\n",
       "      <td>HON. TED LIEU</td>\n",
       "      <td>2371672700</td>\n",
       "      <td>1357517.48</td>\n",
       "      <td>1626894</td>\n",
       "      <td>818.0</td>\n",
       "      <td>818.0</td>\n",
       "      <td>807.0</td>\n",
       "      <td>1649088</td>\n",
       "      <td>False</td>\n",
       "    </tr>\n",
       "    <tr>\n",
       "      <th>5</th>\n",
       "      <td>HON. WILLIAM LACY CLAY</td>\n",
       "      <td>1933759332</td>\n",
       "      <td>1343129.49</td>\n",
       "      <td>1328541</td>\n",
       "      <td>674.0</td>\n",
       "      <td>674.0</td>\n",
       "      <td>659.0</td>\n",
       "      <td>1358784</td>\n",
       "      <td>False</td>\n",
       "    </tr>\n",
       "    <tr>\n",
       "      <th>6</th>\n",
       "      <td>HON. JERROLD NADLER</td>\n",
       "      <td>1185985582</td>\n",
       "      <td>1340387.65</td>\n",
       "      <td>812436</td>\n",
       "      <td>410.0</td>\n",
       "      <td>410.0</td>\n",
       "      <td>403.0</td>\n",
       "      <td>826560</td>\n",
       "      <td>True</td>\n",
       "    </tr>\n",
       "    <tr>\n",
       "      <th>7</th>\n",
       "      <td>HON. BRUCE POLIQUIN</td>\n",
       "      <td>2316577350</td>\n",
       "      <td>1338873.00</td>\n",
       "      <td>1606732</td>\n",
       "      <td>798.0</td>\n",
       "      <td>798.0</td>\n",
       "      <td>797.0</td>\n",
       "      <td>1608768</td>\n",
       "      <td>True</td>\n",
       "    </tr>\n",
       "    <tr>\n",
       "      <th>8</th>\n",
       "      <td>HON. DOUG LAMALFA</td>\n",
       "      <td>2247794820</td>\n",
       "      <td>1338552.55</td>\n",
       "      <td>1558353</td>\n",
       "      <td>778.0</td>\n",
       "      <td>778.0</td>\n",
       "      <td>773.0</td>\n",
       "      <td>1568448</td>\n",
       "      <td>False</td>\n",
       "    </tr>\n",
       "    <tr>\n",
       "      <th>9</th>\n",
       "      <td>HON. MARTHA MCSALLY</td>\n",
       "      <td>2082605369</td>\n",
       "      <td>1338452.13</td>\n",
       "      <td>1453531</td>\n",
       "      <td>722.0</td>\n",
       "      <td>722.0</td>\n",
       "      <td>721.0</td>\n",
       "      <td>1455552</td>\n",
       "      <td>True</td>\n",
       "    </tr>\n",
       "    <tr>\n",
       "      <th>10</th>\n",
       "      <td>HON. CEDRIC L. RICHMOND</td>\n",
       "      <td>1681832725</td>\n",
       "      <td>1333946.76</td>\n",
       "      <td>1163214</td>\n",
       "      <td>579.0</td>\n",
       "      <td>579.0</td>\n",
       "      <td>577.0</td>\n",
       "      <td>1167264</td>\n",
       "      <td>True</td>\n",
       "    </tr>\n",
       "    <tr>\n",
       "      <th>11</th>\n",
       "      <td>HON. PAUL A. GOSAR</td>\n",
       "      <td>2575840248</td>\n",
       "      <td>1332322.33</td>\n",
       "      <td>1806330</td>\n",
       "      <td>901.0</td>\n",
       "      <td>901.0</td>\n",
       "      <td>896.0</td>\n",
       "      <td>1816416</td>\n",
       "      <td>False</td>\n",
       "    </tr>\n",
       "    <tr>\n",
       "      <th>12</th>\n",
       "      <td>HON. DORIS MATSUI</td>\n",
       "      <td>1602570825</td>\n",
       "      <td>1326998.65</td>\n",
       "      <td>1100712</td>\n",
       "      <td>553.0</td>\n",
       "      <td>553.0</td>\n",
       "      <td>546.0</td>\n",
       "      <td>1114848</td>\n",
       "      <td>True</td>\n",
       "    </tr>\n",
       "    <tr>\n",
       "      <th>13</th>\n",
       "      <td>HON. SUZANNE BONAMICI</td>\n",
       "      <td>1932074421</td>\n",
       "      <td>1326878.94</td>\n",
       "      <td>1368862</td>\n",
       "      <td>681.0</td>\n",
       "      <td>681.0</td>\n",
       "      <td>679.0</td>\n",
       "      <td>1372896</td>\n",
       "      <td>True</td>\n",
       "    </tr>\n",
       "    <tr>\n",
       "      <th>14</th>\n",
       "      <td>HON. ADAM B. SCHIFF</td>\n",
       "      <td>2264675689</td>\n",
       "      <td>1323702.86</td>\n",
       "      <td>1566412</td>\n",
       "      <td>780.0</td>\n",
       "      <td>780.0</td>\n",
       "      <td>777.0</td>\n",
       "      <td>1572480</td>\n",
       "      <td>False</td>\n",
       "    </tr>\n",
       "    <tr>\n",
       "      <th>15</th>\n",
       "      <td>HON. DON YOUNG</td>\n",
       "      <td>1972872933</td>\n",
       "      <td>1320953.34</td>\n",
       "      <td>1358767</td>\n",
       "      <td>674.0</td>\n",
       "      <td>674.0</td>\n",
       "      <td>674.0</td>\n",
       "      <td>1358784</td>\n",
       "      <td>True</td>\n",
       "    </tr>\n",
       "    <tr>\n",
       "      <th>16</th>\n",
       "      <td>HON. RON DESANTIS</td>\n",
       "      <td>1494999959</td>\n",
       "      <td>1314512.63</td>\n",
       "      <td>1058382</td>\n",
       "      <td>525.0</td>\n",
       "      <td>525.0</td>\n",
       "      <td>525.0</td>\n",
       "      <td>1058400</td>\n",
       "      <td>True</td>\n",
       "    </tr>\n",
       "    <tr>\n",
       "      <th>17</th>\n",
       "      <td>HON. DEBBIE WASSERMAN-SCHULTZ</td>\n",
       "      <td>1833749688</td>\n",
       "      <td>1313564.91</td>\n",
       "      <td>1266031</td>\n",
       "      <td>628.0</td>\n",
       "      <td>628.0</td>\n",
       "      <td>628.0</td>\n",
       "      <td>1266048</td>\n",
       "      <td>True</td>\n",
       "    </tr>\n",
       "    <tr>\n",
       "      <th>18</th>\n",
       "      <td>HON. GARRET GRAVES</td>\n",
       "      <td>1744104908</td>\n",
       "      <td>1311947.73</td>\n",
       "      <td>1219658</td>\n",
       "      <td>607.0</td>\n",
       "      <td>607.0</td>\n",
       "      <td>605.0</td>\n",
       "      <td>1223712</td>\n",
       "      <td>False</td>\n",
       "    </tr>\n",
       "    <tr>\n",
       "      <th>19</th>\n",
       "      <td>HON. ALAN S. LOWENTHAL</td>\n",
       "      <td>1856686034</td>\n",
       "      <td>1311431.75</td>\n",
       "      <td>1288207</td>\n",
       "      <td>644.0</td>\n",
       "      <td>644.0</td>\n",
       "      <td>639.0</td>\n",
       "      <td>1298304</td>\n",
       "      <td>False</td>\n",
       "    </tr>\n",
       "  </tbody>\n",
       "</table>\n",
       "</div>"
      ],
      "text/plain": [
       "                           OFFICE  Unnamed: 0      AMOUNT     YEAR  if_rep  \\\n",
       "0         HON. PEDRO R. PIERLUISI  1962727229  1773125.94  1376898   683.0   \n",
       "1       HON. EARL L. BUDDY CARTER  3273480326  1537780.51  2308301  1145.0   \n",
       "2         HON. CAROLYN B. MALONEY  2193515851  1409965.17  1507946   760.0   \n",
       "3              HON. RYAN K. ZINKE  3403977247  1360360.16  2326449  1163.0   \n",
       "4                   HON. TED LIEU  2371672700  1357517.48  1626894   818.0   \n",
       "5          HON. WILLIAM LACY CLAY  1933759332  1343129.49  1328541   674.0   \n",
       "6             HON. JERROLD NADLER  1185985582  1340387.65   812436   410.0   \n",
       "7             HON. BRUCE POLIQUIN  2316577350  1338873.00  1606732   798.0   \n",
       "8               HON. DOUG LAMALFA  2247794820  1338552.55  1558353   778.0   \n",
       "9             HON. MARTHA MCSALLY  2082605369  1338452.13  1453531   722.0   \n",
       "10        HON. CEDRIC L. RICHMOND  1681832725  1333946.76  1163214   579.0   \n",
       "11             HON. PAUL A. GOSAR  2575840248  1332322.33  1806330   901.0   \n",
       "12              HON. DORIS MATSUI  1602570825  1326998.65  1100712   553.0   \n",
       "13          HON. SUZANNE BONAMICI  1932074421  1326878.94  1368862   681.0   \n",
       "14            HON. ADAM B. SCHIFF  2264675689  1323702.86  1566412   780.0   \n",
       "15                 HON. DON YOUNG  1972872933  1320953.34  1358767   674.0   \n",
       "16              HON. RON DESANTIS  1494999959  1314512.63  1058382   525.0   \n",
       "17  HON. DEBBIE WASSERMAN-SCHULTZ  1833749688  1313564.91  1266031   628.0   \n",
       "18             HON. GARRET GRAVES  1744104908  1311947.73  1219658   607.0   \n",
       "19         HON. ALAN S. LOWENTHAL  1856686034  1311431.75  1288207   644.0   \n",
       "\n",
       "    StartDateCheck  EndDateCheck  START YEAR if_Dem  \n",
       "0            683.0         683.0     1376928   True  \n",
       "1           1145.0        1145.0     2308320  False  \n",
       "2            760.0         748.0     1532160   True  \n",
       "3           1163.0        1154.0     2344608  False  \n",
       "4            818.0         807.0     1649088  False  \n",
       "5            674.0         659.0     1358784  False  \n",
       "6            410.0         403.0      826560   True  \n",
       "7            798.0         797.0     1608768   True  \n",
       "8            778.0         773.0     1568448  False  \n",
       "9            722.0         721.0     1455552   True  \n",
       "10           579.0         577.0     1167264   True  \n",
       "11           901.0         896.0     1816416  False  \n",
       "12           553.0         546.0     1114848   True  \n",
       "13           681.0         679.0     1372896   True  \n",
       "14           780.0         777.0     1572480  False  \n",
       "15           674.0         674.0     1358784   True  \n",
       "16           525.0         525.0     1058400   True  \n",
       "17           628.0         628.0     1266048   True  \n",
       "18           607.0         605.0     1223712  False  \n",
       "19           644.0         639.0     1298304  False  "
      ]
     },
     "execution_count": 25,
     "metadata": {},
     "output_type": "execute_result"
    }
   ],
   "source": [
    "# Look up the top 20 spenders in 2016. Compute the total expenditures they spend.\n",
    "df_start_2016_rep = df_start_2016[df_start_2016.if_rep == True]\n",
    "top_20_2016 = df_start_2016_rep.groupby(by = ['OFFICE']).sum().sort_values(by = 'AMOUNT', ascending = False)[:20]\n",
    "top_20_2016.reset_index(inplace = True)\n",
    "top_20_2016['if_Dem'] = ['True','False','True','False','False','False','True','True','False','True','True','False','True','True','False','True','True','True','False','False']\n",
    "top_20_2016"
   ]
  },
  {
   "cell_type": "code",
   "execution_count": 26,
   "metadata": {},
   "outputs": [
    {
     "data": {
      "text/plain": [
       "0.5533902011196373"
      ]
     },
     "execution_count": 26,
     "metadata": {},
     "output_type": "execute_result"
    }
   ],
   "source": [
    "# Compute the expenditures spent by the Democratic members in the top 20 spenders in 2016.\n",
    "tot_exp_2016_top_20_dem = top_20_2016[top_20_2016.if_Dem == 'True'].sum()['AMOUNT']\n",
    "tot_exp_2016_top_20 = top_20_2016.sum()['AMOUNT']\n",
    "tot_exp_2016_top_20_dem/tot_exp_2016_top_20"
   ]
  },
  {
   "cell_type": "code",
   "execution_count": 40,
   "metadata": {},
   "outputs": [],
   "source": []
  },
  {
   "cell_type": "code",
   "execution_count": null,
   "metadata": {},
   "outputs": [],
   "source": []
  },
  {
   "cell_type": "code",
   "execution_count": null,
   "metadata": {},
   "outputs": [],
   "source": []
  }
 ],
 "metadata": {
  "kernelspec": {
   "display_name": "Python 3",
   "language": "python",
   "name": "python3"
  },
  "language_info": {
   "codemirror_mode": {
    "name": "ipython",
    "version": 3
   },
   "file_extension": ".py",
   "mimetype": "text/x-python",
   "name": "python",
   "nbconvert_exporter": "python",
   "pygments_lexer": "ipython3",
   "version": "3.6.6"
  }
 },
 "nbformat": 4,
 "nbformat_minor": 2
}
